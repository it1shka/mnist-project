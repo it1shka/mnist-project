{
 "cells": [
  {
   "cell_type": "code",
   "execution_count": 35,
   "metadata": {},
   "outputs": [],
   "source": [
    "from torchvision.datasets import MNIST\n",
    "from torchvision.transforms import ToTensor\n",
    "\n",
    "tf = ToTensor()\n",
    "train_dataset = MNIST(root='./data', train=True, transform=tf, download=True)\n",
    "test_dataset = MNIST(root='./data', train=False, transform=tf)\n"
   ]
  },
  {
   "cell_type": "code",
   "execution_count": 36,
   "metadata": {},
   "outputs": [],
   "source": [
    "from torch.utils.data import DataLoader\n",
    "\n",
    "train_loader = DataLoader(train_dataset, batch_size=64, shuffle=True)\n",
    "test_loader = DataLoader(test_dataset, batch_size=64, shuffle=False)"
   ]
  },
  {
   "cell_type": "code",
   "execution_count": 37,
   "metadata": {},
   "outputs": [],
   "source": [
    "from torch import nn\n",
    "\n",
    "class ConvolutionNetwork(nn.Module):\n",
    "  '''Network with convolutional layers'''\n",
    "  def __init__(self):\n",
    "    super().__init__()\n",
    "    self.convolution_stack = nn.Sequential(\n",
    "      # convolutional part\n",
    "      nn.Conv2d(1, 32, kernel_size=3, stride=2),\n",
    "      nn.ReLU(),\n",
    "      nn.Conv2d(32, 64, kernel_size=3, stride=3),\n",
    "      nn.ReLU(),\n",
    "      nn.MaxPool2d(kernel_size=2)\n",
    "    )\n",
    "    self.dense_stack = nn.Sequential(\n",
    "      # dense part\n",
    "      nn.Linear(256, 128),\n",
    "      nn.ReLU(),\n",
    "      nn.Dropout(0.2),\n",
    "      nn.Linear(128, 10)\n",
    "    )\n",
    "    self.output_function = nn.Softmax(dim=1)\n",
    "    self.flatten = nn.Flatten()\n",
    "  \n",
    "  def forward(self, x):\n",
    "    x = self.convolution_stack(x)\n",
    "    x = self.flatten(x)\n",
    "    x = self.dense_stack(x)\n",
    "    x = self.output_function(x)\n",
    "    return x\n"
   ]
  },
  {
   "cell_type": "code",
   "execution_count": 38,
   "metadata": {},
   "outputs": [],
   "source": [
    "import torch\n",
    "\n",
    "device = (\n",
    "  'cuda' if torch.cuda.is_available() else\n",
    "  'mps' if torch.backends.mps.is_available() else \n",
    "  'cpu'\n",
    ")\n"
   ]
  },
  {
   "cell_type": "code",
   "execution_count": 31,
   "metadata": {},
   "outputs": [],
   "source": [
    "device = 'cpu'"
   ]
  },
  {
   "cell_type": "code",
   "execution_count": 39,
   "metadata": {},
   "outputs": [],
   "source": [
    "model = ConvolutionNetwork().to(device)"
   ]
  },
  {
   "cell_type": "code",
   "execution_count": 40,
   "metadata": {},
   "outputs": [],
   "source": [
    "from torch import optim\n",
    "loss_function = nn.CrossEntropyLoss()\n",
    "optimizer = optim.Adam(model.parameters(), lr=0.001)"
   ]
  },
  {
   "cell_type": "code",
   "execution_count": 41,
   "metadata": {},
   "outputs": [
    {
     "data": {
      "text/plain": [
       "tensor([[0.1009, 0.1054, 0.1043, 0.1109, 0.0924, 0.0957, 0.0961, 0.0944, 0.1112,\n",
       "         0.0887],\n",
       "        [0.1033, 0.1083, 0.1034, 0.1129, 0.0910, 0.0996, 0.0920, 0.0923, 0.1121,\n",
       "         0.0851],\n",
       "        [0.1024, 0.1151, 0.0974, 0.1100, 0.0983, 0.0960, 0.0896, 0.0950, 0.1067,\n",
       "         0.0896],\n",
       "        [0.1067, 0.1085, 0.0992, 0.1107, 0.0930, 0.0962, 0.0917, 0.0955, 0.1122,\n",
       "         0.0862],\n",
       "        [0.1023, 0.1060, 0.1028, 0.1148, 0.0925, 0.0936, 0.0918, 0.0980, 0.1092,\n",
       "         0.0889],\n",
       "        [0.1029, 0.1072, 0.1004, 0.1080, 0.0977, 0.0967, 0.0900, 0.0953, 0.1165,\n",
       "         0.0854],\n",
       "        [0.1020, 0.1075, 0.0986, 0.1048, 0.0959, 0.0980, 0.0940, 0.0972, 0.1129,\n",
       "         0.0890],\n",
       "        [0.1037, 0.1037, 0.1012, 0.1139, 0.0955, 0.0949, 0.0965, 0.0941, 0.1075,\n",
       "         0.0890],\n",
       "        [0.1015, 0.1092, 0.1037, 0.1138, 0.0904, 0.1034, 0.0877, 0.0957, 0.1112,\n",
       "         0.0835],\n",
       "        [0.0990, 0.1105, 0.1000, 0.1088, 0.0985, 0.0956, 0.0915, 0.0973, 0.1114,\n",
       "         0.0874],\n",
       "        [0.0983, 0.1100, 0.1031, 0.1164, 0.0953, 0.0927, 0.0887, 0.0980, 0.1095,\n",
       "         0.0880],\n",
       "        [0.1009, 0.1088, 0.1031, 0.1075, 0.0976, 0.0964, 0.0926, 0.0973, 0.1089,\n",
       "         0.0869],\n",
       "        [0.1023, 0.1192, 0.0965, 0.1106, 0.0917, 0.0951, 0.0905, 0.0961, 0.1084,\n",
       "         0.0896],\n",
       "        [0.1027, 0.1052, 0.1058, 0.1126, 0.0957, 0.0997, 0.0892, 0.0935, 0.1120,\n",
       "         0.0838],\n",
       "        [0.0955, 0.1092, 0.0998, 0.1145, 0.0957, 0.0999, 0.0944, 0.0980, 0.1052,\n",
       "         0.0877],\n",
       "        [0.1043, 0.1063, 0.0972, 0.1107, 0.0952, 0.0966, 0.0921, 0.0943, 0.1140,\n",
       "         0.0893],\n",
       "        [0.1050, 0.1059, 0.0981, 0.1121, 0.0988, 0.0943, 0.0930, 0.0970, 0.1088,\n",
       "         0.0870],\n",
       "        [0.1009, 0.1035, 0.1064, 0.1138, 0.0952, 0.0949, 0.0947, 0.0914, 0.1100,\n",
       "         0.0893],\n",
       "        [0.1033, 0.1044, 0.1007, 0.1109, 0.0954, 0.0969, 0.0971, 0.0943, 0.1105,\n",
       "         0.0866],\n",
       "        [0.1016, 0.1048, 0.1017, 0.1100, 0.0951, 0.1014, 0.0955, 0.0950, 0.1090,\n",
       "         0.0860],\n",
       "        [0.1035, 0.1066, 0.0984, 0.1085, 0.0970, 0.0944, 0.0958, 0.0989, 0.1089,\n",
       "         0.0882],\n",
       "        [0.0992, 0.1060, 0.1009, 0.1110, 0.0940, 0.1003, 0.0930, 0.0945, 0.1158,\n",
       "         0.0853],\n",
       "        [0.1042, 0.1050, 0.1024, 0.1098, 0.0916, 0.0965, 0.0975, 0.0960, 0.1121,\n",
       "         0.0849],\n",
       "        [0.0998, 0.1092, 0.1016, 0.1094, 0.0936, 0.0951, 0.0935, 0.0956, 0.1105,\n",
       "         0.0917],\n",
       "        [0.1021, 0.1067, 0.0981, 0.1052, 0.0955, 0.0947, 0.0957, 0.0965, 0.1161,\n",
       "         0.0892],\n",
       "        [0.1069, 0.1023, 0.1027, 0.1119, 0.0922, 0.0977, 0.0928, 0.0980, 0.1112,\n",
       "         0.0844],\n",
       "        [0.1043, 0.1083, 0.1010, 0.1098, 0.0937, 0.0948, 0.0945, 0.0919, 0.1122,\n",
       "         0.0895],\n",
       "        [0.1022, 0.1094, 0.0958, 0.1101, 0.0945, 0.0985, 0.0961, 0.0936, 0.1123,\n",
       "         0.0874],\n",
       "        [0.1023, 0.1080, 0.0990, 0.1098, 0.0969, 0.0966, 0.0912, 0.0945, 0.1153,\n",
       "         0.0863],\n",
       "        [0.1004, 0.1056, 0.1052, 0.1077, 0.0969, 0.0924, 0.0959, 0.0980, 0.1105,\n",
       "         0.0875],\n",
       "        [0.1024, 0.1053, 0.1016, 0.1087, 0.0961, 0.1001, 0.0949, 0.0946, 0.1114,\n",
       "         0.0850],\n",
       "        [0.0998, 0.1044, 0.1001, 0.1142, 0.0932, 0.1006, 0.0928, 0.0944, 0.1119,\n",
       "         0.0887],\n",
       "        [0.0990, 0.1105, 0.1000, 0.1101, 0.0940, 0.0953, 0.0934, 0.0987, 0.1096,\n",
       "         0.0895],\n",
       "        [0.1048, 0.1060, 0.0988, 0.1118, 0.0946, 0.0967, 0.0946, 0.0921, 0.1135,\n",
       "         0.0871],\n",
       "        [0.1003, 0.1034, 0.1002, 0.1146, 0.0965, 0.0976, 0.0912, 0.0988, 0.1117,\n",
       "         0.0855],\n",
       "        [0.1033, 0.1047, 0.1001, 0.1088, 0.0954, 0.0959, 0.0935, 0.0956, 0.1142,\n",
       "         0.0885],\n",
       "        [0.1019, 0.1135, 0.0985, 0.1087, 0.0946, 0.1000, 0.0939, 0.0956, 0.1070,\n",
       "         0.0864],\n",
       "        [0.1021, 0.1057, 0.1032, 0.1084, 0.0963, 0.1001, 0.0944, 0.0921, 0.1121,\n",
       "         0.0856],\n",
       "        [0.1028, 0.1036, 0.1039, 0.1125, 0.0917, 0.0992, 0.0948, 0.0904, 0.1138,\n",
       "         0.0873],\n",
       "        [0.1015, 0.1062, 0.0971, 0.1079, 0.0946, 0.1001, 0.0961, 0.0980, 0.1123,\n",
       "         0.0861],\n",
       "        [0.0992, 0.1073, 0.1010, 0.1095, 0.0980, 0.0977, 0.0945, 0.0953, 0.1118,\n",
       "         0.0858],\n",
       "        [0.1034, 0.1067, 0.1023, 0.1136, 0.0908, 0.0999, 0.0906, 0.0963, 0.1110,\n",
       "         0.0854],\n",
       "        [0.0983, 0.1073, 0.0991, 0.1105, 0.0969, 0.0954, 0.0929, 0.0970, 0.1139,\n",
       "         0.0887],\n",
       "        [0.1012, 0.1103, 0.0984, 0.1092, 0.0947, 0.0971, 0.0933, 0.0933, 0.1158,\n",
       "         0.0866],\n",
       "        [0.1054, 0.1012, 0.0991, 0.1104, 0.0995, 0.0957, 0.0951, 0.0977, 0.1117,\n",
       "         0.0843],\n",
       "        [0.0994, 0.1091, 0.0975, 0.1082, 0.0976, 0.0960, 0.0932, 0.0946, 0.1130,\n",
       "         0.0914],\n",
       "        [0.1021, 0.1017, 0.1003, 0.1107, 0.0951, 0.0974, 0.0971, 0.0935, 0.1141,\n",
       "         0.0880],\n",
       "        [0.0998, 0.1051, 0.0995, 0.1113, 0.0989, 0.0946, 0.0957, 0.0955, 0.1117,\n",
       "         0.0880],\n",
       "        [0.1009, 0.1050, 0.1044, 0.1082, 0.0956, 0.0978, 0.0950, 0.0975, 0.1104,\n",
       "         0.0852],\n",
       "        [0.1013, 0.1076, 0.1001, 0.1068, 0.0972, 0.0986, 0.0942, 0.0998, 0.1078,\n",
       "         0.0866],\n",
       "        [0.1038, 0.1034, 0.1072, 0.1145, 0.0927, 0.0962, 0.0932, 0.0934, 0.1110,\n",
       "         0.0846],\n",
       "        [0.1054, 0.1063, 0.1014, 0.1091, 0.0942, 0.0918, 0.0965, 0.0920, 0.1134,\n",
       "         0.0901],\n",
       "        [0.1046, 0.1081, 0.1014, 0.1116, 0.0942, 0.0958, 0.0955, 0.0952, 0.1079,\n",
       "         0.0858],\n",
       "        [0.1079, 0.1030, 0.1057, 0.1127, 0.0923, 0.0950, 0.0935, 0.0924, 0.1111,\n",
       "         0.0864],\n",
       "        [0.0989, 0.1035, 0.1037, 0.1160, 0.0940, 0.0970, 0.0925, 0.0976, 0.1090,\n",
       "         0.0878],\n",
       "        [0.1059, 0.1054, 0.1037, 0.1077, 0.0938, 0.0983, 0.0952, 0.0915, 0.1127,\n",
       "         0.0857],\n",
       "        [0.1046, 0.1102, 0.1056, 0.1101, 0.0937, 0.0934, 0.0920, 0.0910, 0.1129,\n",
       "         0.0864],\n",
       "        [0.0982, 0.1121, 0.1062, 0.1122, 0.0931, 0.0960, 0.0876, 0.1020, 0.1066,\n",
       "         0.0860],\n",
       "        [0.1052, 0.1064, 0.1034, 0.1084, 0.0934, 0.0972, 0.0945, 0.0931, 0.1100,\n",
       "         0.0885],\n",
       "        [0.1012, 0.1106, 0.1026, 0.1087, 0.0970, 0.0981, 0.0877, 0.0949, 0.1154,\n",
       "         0.0837],\n",
       "        [0.1005, 0.1072, 0.1018, 0.1135, 0.0939, 0.0934, 0.0934, 0.0985, 0.1084,\n",
       "         0.0895],\n",
       "        [0.1006, 0.1080, 0.0989, 0.1111, 0.0941, 0.0974, 0.0947, 0.0939, 0.1114,\n",
       "         0.0897],\n",
       "        [0.1041, 0.1113, 0.0966, 0.1070, 0.0954, 0.0990, 0.0914, 0.0992, 0.1089,\n",
       "         0.0872],\n",
       "        [0.1029, 0.1049, 0.0962, 0.1100, 0.0934, 0.1004, 0.0967, 0.0948, 0.1115,\n",
       "         0.0891]], device='mps:0', grad_fn=<SoftmaxBackward0>)"
      ]
     },
     "execution_count": 41,
     "metadata": {},
     "output_type": "execute_result"
    }
   ],
   "source": [
    "# get first batch\n",
    "images, _ = next(iter(train_loader))\n",
    "images = images.to(device)\n",
    "prediction = model(images)\n",
    "prediction"
   ]
  },
  {
   "cell_type": "code",
   "execution_count": 43,
   "metadata": {},
   "outputs": [
    {
     "name": "stdout",
     "output_type": "stream",
     "text": [
      "Epoch 0: last loss = 1.4987726211547852\n",
      "Epoch 1: last loss = 1.4611507654190063\n",
      "Epoch 2: last loss = 1.488769769668579\n",
      "Epoch 3: last loss = 1.461150050163269\n",
      "Epoch 4: last loss = 1.4611657857894897\n",
      "Epoch 5: last loss = 1.492398738861084\n",
      "Epoch 6: last loss = 1.4623394012451172\n",
      "Epoch 7: last loss = 1.4611914157867432\n",
      "Epoch 8: last loss = 1.4612189531326294\n",
      "Epoch 9: last loss = 1.4915333986282349\n",
      "Epoch 10: last loss = 1.4978288412094116\n",
      "Epoch 11: last loss = 1.461153507232666\n",
      "Epoch 12: last loss = 1.461151123046875\n",
      "Epoch 13: last loss = 1.461547613143921\n",
      "Epoch 14: last loss = 1.4611501693725586\n",
      "Epoch 15: last loss = 1.4920281171798706\n",
      "Epoch 16: last loss = 1.5167100429534912\n",
      "Epoch 17: last loss = 1.461150884628296\n",
      "Epoch 18: last loss = 1.4649856090545654\n",
      "Epoch 19: last loss = 1.461155891418457\n",
      "Epoch 20: last loss = 1.4910223484039307\n",
      "Epoch 21: last loss = 1.4611501693725586\n",
      "Epoch 22: last loss = 1.4615724086761475\n",
      "Epoch 23: last loss = 1.4632105827331543\n",
      "Epoch 24: last loss = 1.461150050163269\n"
     ]
    }
   ],
   "source": [
    "epochs = 25\n",
    "for current_epoch in range(epochs):\n",
    "  for images, labels in train_loader:\n",
    "    images, labels = images.to(device), labels.to(device)\n",
    "    optimizer.zero_grad()\n",
    "    predictions = model(images)\n",
    "    loss = loss_function(predictions, labels)\n",
    "    loss.backward()\n",
    "    optimizer.step()\n",
    "  print(f'Epoch {current_epoch}: last loss = {loss.item()}')"
   ]
  },
  {
   "cell_type": "code",
   "execution_count": 44,
   "metadata": {},
   "outputs": [
    {
     "name": "stdout",
     "output_type": "stream",
     "text": [
      "Accuracy:  98.20%\n"
     ]
    }
   ],
   "source": [
    "correct, total = 0, 0\n",
    "model.eval()\n",
    "with torch.no_grad():\n",
    "  for images, labels in test_loader:\n",
    "    # print(images.shape)\n",
    "    images, labels = images.to(device), labels.to(device)\n",
    "    predictions = model(images)\n",
    "    # print(predictions.shape)\n",
    "    _, predicted = torch.max(predictions.data, 1)\n",
    "    total += labels.size(0)\n",
    "    correct += (predicted == labels).sum().item()\n",
    "accuracy = correct / total\n",
    "print(f'Accuracy: {accuracy: .2%}')"
   ]
  },
  {
   "cell_type": "code",
   "execution_count": 45,
   "metadata": {},
   "outputs": [],
   "source": [
    "# save model\n",
    "postfix = str(round(accuracy * 1e4))\n",
    "path = f'./models/model_{postfix}.pth'\n",
    "torch.save(model, path)\n",
    "state = model.state_dict()\n",
    "torch.save(state, f'{path}.state')\n"
   ]
  }
 ],
 "metadata": {
  "kernelspec": {
   "display_name": ".venv",
   "language": "python",
   "name": "python3"
  },
  "language_info": {
   "codemirror_mode": {
    "name": "ipython",
    "version": 3
   },
   "file_extension": ".py",
   "mimetype": "text/x-python",
   "name": "python",
   "nbconvert_exporter": "python",
   "pygments_lexer": "ipython3",
   "version": "3.10.11"
  },
  "orig_nbformat": 4
 },
 "nbformat": 4,
 "nbformat_minor": 2
}
